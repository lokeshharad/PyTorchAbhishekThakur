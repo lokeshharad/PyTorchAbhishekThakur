{
 "cells": [
  {
   "cell_type": "code",
   "execution_count": 1,
   "id": "03b8878c",
   "metadata": {},
   "outputs": [],
   "source": [
    "import numpy as np\n",
    "import torch"
   ]
  },
  {
   "cell_type": "code",
   "execution_count": null,
   "id": "de8e5644",
   "metadata": {},
   "outputs": [],
   "source": [
    "def train_one_step(model, data, optimizer):\n",
    "    optimizer.zero_grad()\n",
    "    for k, v in data.items():\n",
    "        data[k] = v.to(\"cuda\")\n",
    "    loss = model(**data)\n",
    "    optimizer.step()\n",
    "    return loss"
   ]
  },
  {
   "cell_type": "code",
   "execution_count": null,
   "id": "e49d0dfc",
   "metadata": {},
   "outputs": [],
   "source": [
    "def train_one_epoch(model, data_loader, optimizer, scheduler):\n",
    "    model.train()\n",
    "    total_loss = 0\n",
    "    for batch_index, data in enumerate(data_loader):\n",
    "        loss = train_one_step(model, data, optimizer)\n",
    "        scheduler.step()\n",
    "        total_loss += loss\n",
    "    \n",
    "    return total_loss"
   ]
  },
  {
   "cell_type": "code",
   "execution_count": null,
   "id": "8626df3e",
   "metadata": {},
   "outputs": [],
   "source": [
    "def validate_one_step(model, data):\n",
    "    for k, v in data.items():\n",
    "        data[k] = v.to(\"cuda\")\n",
    "    loss = model(**data)\n",
    "    return loss"
   ]
  },
  {
   "cell_type": "code",
   "execution_count": null,
   "id": "aca66ffb",
   "metadata": {},
   "outputs": [],
   "source": [
    "def validate_one_epoch(model, data_loader):\n",
    "    model.train()\n",
    "    total_loss = 0\n",
    "    for batch_index, data in enumerate(data_loader):\n",
    "        with torch.no_grad():\n",
    "            loss = validate_one_step(model, data)\n",
    "        total_loss += loss\n",
    "    \n",
    "    return total_loss"
   ]
  }
 ],
 "metadata": {
  "kernelspec": {
   "display_name": "Python (pytorch_env)",
   "language": "python",
   "name": "pytorch_env"
  },
  "language_info": {
   "codemirror_mode": {
    "name": "ipython",
    "version": 3
   },
   "file_extension": ".py",
   "mimetype": "text/x-python",
   "name": "python",
   "nbconvert_exporter": "python",
   "pygments_lexer": "ipython3",
   "version": "3.7.10"
  }
 },
 "nbformat": 4,
 "nbformat_minor": 5
}
