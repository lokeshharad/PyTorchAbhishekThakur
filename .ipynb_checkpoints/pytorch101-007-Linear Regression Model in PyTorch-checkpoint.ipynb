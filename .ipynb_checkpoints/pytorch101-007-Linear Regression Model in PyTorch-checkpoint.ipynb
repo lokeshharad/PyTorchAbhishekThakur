{
 "cells": [
  {
   "cell_type": "code",
   "execution_count": 1,
   "id": "046e2485",
   "metadata": {},
   "outputs": [],
   "source": [
    "import numpy as np\n",
    "import torch\n",
    "from sklearn.datasets import make_classification\n",
    "from sklearn.model_selection import train_test_split\n",
    "from sklearn import metrics"
   ]
  },
  {
   "cell_type": "code",
   "execution_count": 2,
   "id": "66d821c9",
   "metadata": {},
   "outputs": [],
   "source": [
    "class CustomDataset:\n",
    "    \n",
    "    def __init__(self, data, targets):\n",
    "        self.data = data\n",
    "        self.targets = targets\n",
    "\n",
    "    def __len__(self):\n",
    "#         return len(self.data)\n",
    "        return self.data.shape[0]\n",
    "    \n",
    "    def __getitem__(self, idx):\n",
    "        current_sample = self.data[idx, :]\n",
    "        current_target = self.targets[idx]\n",
    "        return {\"x\": torch.tensor(current_sample, dtype=torch.float), \n",
    "               \"y\": torch.tensor(current_target, dtype=torch.long)\n",
    "               }\n",
    "    "
   ]
  },
  {
   "cell_type": "code",
   "execution_count": 3,
   "id": "6bbe9ae6",
   "metadata": {},
   "outputs": [],
   "source": [
    "x, y = make_classification(n_samples=1000, n_features=20, n_classes=2, random_state=100)"
   ]
  },
  {
   "cell_type": "code",
   "execution_count": 4,
   "id": "1acbc583",
   "metadata": {},
   "outputs": [
    {
     "name": "stdout",
     "output_type": "stream",
     "text": [
      "(750, 20) (750,) (250, 20) (250,)\n"
     ]
    }
   ],
   "source": [
    "x_train, x_test, y_train, y_test = train_test_split(x, y, stratify=y, random_state=100) # test_size=0.2\n",
    "# stratify splits data into 75 % train set and 25 % validation or test set\n",
    "print(x_train.shape, y_train.shape, x_test.shape, y_test.shape)"
   ]
  },
  {
   "cell_type": "code",
   "execution_count": 5,
   "id": "090103aa",
   "metadata": {},
   "outputs": [],
   "source": [
    "train_dataset = CustomDataset(data=x_train, targets=y_train)\n",
    "test_dataset = CustomDataset(data=x_test, targets=y_test)"
   ]
  },
  {
   "cell_type": "code",
   "execution_count": 6,
   "id": "596ac726",
   "metadata": {},
   "outputs": [
    {
     "data": {
      "text/plain": [
       "{'x': tensor([-0.2740,  0.6540, -0.4939, -0.9140, -1.2385, -0.9883,  1.7838, -0.9261,\n",
       "          0.4457, -0.0412, -1.1414,  0.1102, -2.2618, -0.8671,  0.6208,  0.7507,\n",
       "         -1.6332,  1.7366, -0.9487,  0.0370]),\n",
       " 'y': tensor(0)}"
      ]
     },
     "execution_count": 6,
     "metadata": {},
     "output_type": "execute_result"
    }
   ],
   "source": [
    "train_dataset[0]"
   ]
  },
  {
   "cell_type": "code",
   "execution_count": 7,
   "id": "4fe52013",
   "metadata": {},
   "outputs": [
    {
     "data": {
      "text/plain": [
       "{'x': tensor([-0.2740,  0.6540, -0.4939, -0.9140, -1.2385, -0.9883,  1.7838, -0.9261,\n",
       "          0.4457, -0.0412, -1.1414,  0.1102, -2.2618, -0.8671,  0.6208,  0.7507,\n",
       "         -1.6332,  1.7366, -0.9487,  0.0370]),\n",
       " 'y': tensor(0)}"
      ]
     },
     "execution_count": 7,
     "metadata": {},
     "output_type": "execute_result"
    }
   ],
   "source": [
    "train_dataset[0]"
   ]
  },
  {
   "cell_type": "code",
   "execution_count": 8,
   "id": "45430f97",
   "metadata": {},
   "outputs": [],
   "source": [
    "train_loader = torch.utils.data.DataLoader(dataset=train_dataset, batch_size=4)\n",
    "test_loader = torch.utils.data.DataLoader(dataset=test_dataset, batch_size=4)"
   ]
  },
  {
   "cell_type": "code",
   "execution_count": 9,
   "id": "1298c550",
   "metadata": {},
   "outputs": [
    {
     "data": {
      "text/plain": [
       "<function __main__.<lambda>(x, w, b)>"
      ]
     },
     "execution_count": 9,
     "metadata": {},
     "output_type": "execute_result"
    }
   ],
   "source": [
    "model = lambda x, w, b: torch.matmul(x, w) + b\n",
    "model"
   ]
  },
  {
   "cell_type": "code",
   "execution_count": 10,
   "id": "56834285",
   "metadata": {},
   "outputs": [],
   "source": [
    "w = torch.randn(20, 1, requires_grad=True)\n",
    "b = torch.randn(1, requires_grad=True)\n",
    "learning_rate = 0.001\n",
    "# print(\"weights\", w)\n",
    "# print(\"bias\", b)\n",
    "# print(\"lr\", learning_rate)"
   ]
  },
  {
   "cell_type": "code",
   "execution_count": 11,
   "id": "c1cc6562",
   "metadata": {},
   "outputs": [],
   "source": [
    "outputs = []\n",
    "labels = []\n",
    "with torch.no_grad():\n",
    "    for data in test_loader:\n",
    "        xtest = data[\"x\"]\n",
    "        ytest = data[\"y\"]\n",
    "        \n",
    "        output = model(xtest, w, b)\n",
    "        labels.append(ytest)\n",
    "        outputs.append(output)"
   ]
  },
  {
   "cell_type": "code",
   "execution_count": 12,
   "id": "5a56fd71",
   "metadata": {},
   "outputs": [
    {
     "data": {
      "text/plain": [
       "0.6390809011776752"
      ]
     },
     "execution_count": 12,
     "metadata": {},
     "output_type": "execute_result"
    }
   ],
   "source": [
    "metrics.roc_auc_score(torch.cat(labels).view(-1), torch.cat(outputs).view(-1))"
   ]
  },
  {
   "cell_type": "code",
   "execution_count": 13,
   "id": "e9eb81cf",
   "metadata": {
    "scrolled": false
   },
   "outputs": [
    {
     "name": "stdout",
     "output_type": "stream",
     "text": [
      "output tensor([[ 1.1170],\n",
      "        [-3.0801],\n",
      "        [ 2.7697],\n",
      "        [-2.0939]], grad_fn=<AddBackward0>)\n",
      "loss.item() 6.994467735290527\n",
      "epoch loss 6.994467735290527\n",
      "0 6.994467735290527\n"
     ]
    }
   ],
   "source": [
    "for epoch in range(10):\n",
    "#     print(\"*\"*50)\n",
    "#     print(\"EPOCH {}\".format(epoch))\n",
    "    epoch_loss = 0\n",
    "    counter = 0\n",
    "    \n",
    "    for data in train_loader:\n",
    "        xtrain = data[\"x\"]\n",
    "        ytrain = data[\"y\"]\n",
    "#         print(\"x train\", xtrain)\n",
    "#         print(\"y train\", ytrain)\n",
    "        \n",
    "        output = model(xtrain, w, b)\n",
    "#         print(\"output\", output)\n",
    "        loss = torch.mean((ytrain.view(-1) - output.view(-1))**2)\n",
    "#         print(\"loss\", loss)\n",
    "#         print(\"loss.item()\", loss.item())\n",
    "        epoch_loss = epoch_loss + loss.item()\n",
    "#         print(\"epoch loss\", epoch_loss)\n",
    "        loss.backward()\n",
    "        \n",
    "        with torch.no_grad():\n",
    "            w = w - learning_rate * w.grad\n",
    "            b = b - learning_rate * b.grad\n",
    "        \n",
    "        w.requires_grad_(True)\n",
    "        b.requires_grad_(True)\n",
    "#         print(w, b, \"\\n\")\n",
    "        counter += 1\n",
    "#         break\n",
    "    print(epoch, epoch_loss/counter)\n",
    "#     break\n",
    "        "
   ]
  },
  {
   "cell_type": "code",
   "execution_count": 14,
   "id": "f61e58ce",
   "metadata": {},
   "outputs": [],
   "source": [
    "outputs = []\n",
    "labels = []\n",
    "with torch.no_grad():\n",
    "    for data in test_loader:\n",
    "        xtest = data[\"x\"]\n",
    "        ytest = data[\"y\"]\n",
    "        \n",
    "        output = model(xtest, w, b)\n",
    "        labels.append(ytest)\n",
    "        outputs.append(output)"
   ]
  },
  {
   "cell_type": "code",
   "execution_count": 15,
   "id": "44350846",
   "metadata": {
    "scrolled": true
   },
   "outputs": [
    {
     "data": {
      "text/plain": [
       "[tensor([1, 0, 1, 1]),\n",
       " tensor([1, 1, 1, 0]),\n",
       " tensor([0, 0, 1, 1]),\n",
       " tensor([0, 0, 0, 0]),\n",
       " tensor([1, 1, 1, 0]),\n",
       " tensor([1, 1, 0, 0]),\n",
       " tensor([0, 1, 1, 1]),\n",
       " tensor([0, 0, 0, 0]),\n",
       " tensor([0, 0, 1, 0]),\n",
       " tensor([0, 1, 1, 1]),\n",
       " tensor([0, 0, 1, 1]),\n",
       " tensor([0, 0, 1, 0]),\n",
       " tensor([1, 1, 0, 1]),\n",
       " tensor([1, 0, 1, 1]),\n",
       " tensor([0, 0, 1, 1]),\n",
       " tensor([1, 0, 1, 1]),\n",
       " tensor([1, 1, 1, 0]),\n",
       " tensor([0, 0, 1, 1]),\n",
       " tensor([1, 1, 0, 1]),\n",
       " tensor([1, 0, 1, 1]),\n",
       " tensor([1, 0, 0, 1]),\n",
       " tensor([0, 1, 1, 0]),\n",
       " tensor([1, 0, 1, 1]),\n",
       " tensor([1, 1, 0, 0]),\n",
       " tensor([1, 1, 0, 0]),\n",
       " tensor([1, 1, 1, 0]),\n",
       " tensor([0, 1, 0, 1]),\n",
       " tensor([1, 1, 0, 0]),\n",
       " tensor([1, 0, 0, 1]),\n",
       " tensor([1, 0, 1, 1]),\n",
       " tensor([0, 1, 1, 0]),\n",
       " tensor([0, 1, 1, 1]),\n",
       " tensor([1, 1, 1, 0]),\n",
       " tensor([1, 1, 1, 0]),\n",
       " tensor([1, 1, 1, 0]),\n",
       " tensor([0, 1, 0, 0]),\n",
       " tensor([0, 1, 1, 0]),\n",
       " tensor([1, 0, 0, 1]),\n",
       " tensor([1, 0, 0, 0]),\n",
       " tensor([0, 0, 1, 0]),\n",
       " tensor([1, 0, 0, 1]),\n",
       " tensor([0, 0, 0, 1]),\n",
       " tensor([0, 0, 0, 0]),\n",
       " tensor([1, 1, 0, 0]),\n",
       " tensor([0, 0, 1, 0]),\n",
       " tensor([1, 1, 1, 0]),\n",
       " tensor([1, 0, 0, 0]),\n",
       " tensor([1, 0, 0, 1]),\n",
       " tensor([1, 1, 0, 1]),\n",
       " tensor([0, 0, 1, 0]),\n",
       " tensor([1, 1, 0, 1]),\n",
       " tensor([1, 1, 0, 0]),\n",
       " tensor([0, 1, 0, 0]),\n",
       " tensor([0, 1, 0, 0]),\n",
       " tensor([0, 1, 0, 0]),\n",
       " tensor([1, 0, 1, 0]),\n",
       " tensor([1, 0, 1, 1]),\n",
       " tensor([0, 1, 0, 1]),\n",
       " tensor([1, 0, 0, 0]),\n",
       " tensor([1, 0, 0, 0]),\n",
       " tensor([0, 0, 0, 1]),\n",
       " tensor([1, 0, 0, 1]),\n",
       " tensor([0, 1])]"
      ]
     },
     "execution_count": 15,
     "metadata": {},
     "output_type": "execute_result"
    }
   ],
   "source": [
    "labels"
   ]
  },
  {
   "cell_type": "code",
   "execution_count": 16,
   "id": "d121f6a2",
   "metadata": {
    "scrolled": true
   },
   "outputs": [
    {
     "data": {
      "text/plain": [
       "tensor([ 9.2359e-01, -2.4702e-02,  3.9646e-02,  6.7035e-01,  3.1826e-01,\n",
       "         4.2348e-01,  9.4871e-01,  2.9881e-01,  3.9074e-01,  4.4669e-01,\n",
       "         6.4130e-01,  1.0937e+00,  6.6805e-01,  4.7376e-01,  6.9319e-01,\n",
       "         9.8257e-02,  5.0484e-01,  9.7826e-01,  1.0014e+00,  2.3115e-02,\n",
       "         6.3525e-01,  3.0726e-01,  5.1638e-01,  4.7234e-01,  1.2267e-01,\n",
       "         1.1121e+00,  9.4339e-01,  8.1439e-01,  1.4510e-01,  7.5105e-02,\n",
       "        -1.4259e-01,  1.6781e-02,  4.2696e-01,  2.4321e-01,  7.2714e-01,\n",
       "        -1.1328e-02,  3.9345e-01,  1.0161e+00,  1.5634e+00,  7.8725e-01,\n",
       "         3.3309e-01,  2.2235e-03,  1.1871e+00,  5.8736e-01,  2.2359e-01,\n",
       "        -8.5529e-02,  1.3175e+00, -8.1198e-02,  9.9990e-01,  1.0784e+00,\n",
       "         3.2254e-01,  1.4337e+00,  9.6810e-01,  2.9038e-01,  9.1983e-01,\n",
       "         6.7779e-01,  3.8104e-01,  5.4448e-01,  5.3034e-01,  4.2045e-01,\n",
       "         8.4623e-01, -4.2928e-02,  5.7938e-01,  3.6718e-01,  9.7181e-01,\n",
       "         1.1267e+00,  2.7560e-01,  1.5560e-01,  7.3333e-01,  9.5696e-02,\n",
       "         9.2294e-01,  8.6095e-01,  1.1288e+00,  1.5257e+00,  9.5686e-02,\n",
       "         1.1465e+00,  7.9780e-01, -3.9859e-02,  1.1216e+00,  7.1247e-01,\n",
       "         9.2162e-01,  2.5313e-01, -1.2061e-01,  1.0504e+00,  1.6743e-01,\n",
       "         9.6440e-01,  9.9820e-01,  1.6779e-01,  2.1250e-01,  2.8801e-01,\n",
       "         9.4394e-01,  3.1931e-01,  6.0729e-01,  8.0368e-01,  6.5790e-01,\n",
       "         2.7763e-01,  8.6262e-01,  1.0225e+00,  4.1521e-01,  1.0886e-01,\n",
       "         5.0326e-01,  1.1945e+00,  8.6969e-01,  8.5172e-02,  1.4557e-01,\n",
       "         9.5129e-01,  2.1781e-01,  6.7243e-01,  1.2108e+00,  8.6530e-02,\n",
       "         1.7523e-01,  3.8085e-01,  4.8360e-01,  2.5801e-01, -8.3126e-02,\n",
       "         9.0911e-01,  5.1344e-01,  1.7725e-01,  7.3003e-01,  8.7211e-01,\n",
       "        -2.8216e-02,  1.1622e+00,  8.3626e-01,  3.4995e-01,  2.2290e-01,\n",
       "         5.9541e-01,  4.2656e-01,  8.7217e-01,  1.0116e+00,  8.1741e-01,\n",
       "         9.5566e-01,  2.2474e-01,  8.4714e-01,  4.6767e-01,  2.7435e-01,\n",
       "         4.4548e-01,  9.0749e-01,  6.6025e-01,  5.7881e-01, -3.3044e-01,\n",
       "         5.5517e-01,  9.4070e-01,  1.1465e-01,  7.5799e-02,  4.2872e-01,\n",
       "         8.8815e-01,  1.3666e+00, -3.6610e-01,  8.5169e-01,  3.0587e-02,\n",
       "        -8.3920e-02,  6.2340e-01,  9.2550e-01,  3.7129e-01,  3.0927e-01,\n",
       "         2.1256e-01, -4.4459e-03, -1.9920e-01,  1.3987e+00,  1.8661e-01,\n",
       "         1.9107e-01,  9.5987e-04, -4.6639e-02,  8.6344e-01,  1.3903e-01,\n",
       "        -1.5027e-01,  9.3902e-01,  1.1377e+00,  2.2113e-01,  4.3737e-01,\n",
       "        -5.1650e-01, -4.1186e-01,  1.0988e+00,  5.5859e-01, -1.9387e-01,\n",
       "        -2.0105e-01,  1.7022e-01, -1.9726e-01,  1.1123e+00,  2.1306e-01,\n",
       "         8.2487e-01,  9.9351e-01,  1.2967e+00,  2.2693e-01,  7.6422e-01,\n",
       "         2.1223e-01,  1.5972e-01, -5.4774e-02,  6.4360e-01,  4.1826e-01,\n",
       "         1.8398e-01,  1.2253e+00,  6.1136e-01,  7.6060e-01,  2.3531e-01,\n",
       "         9.5810e-01,  1.9101e-01,  1.7407e-01,  5.2055e-01,  1.4097e-01,\n",
       "         8.7912e-01,  7.6608e-01,  3.5344e-01,  8.6392e-01,  6.6607e-01,\n",
       "         4.5598e-01, -1.5613e-01,  3.7413e-01,  1.9223e-01,  1.0378e+00,\n",
       "         3.2738e-01,  2.5743e-01,  2.6962e-01,  1.2376e-01,  2.0891e-01,\n",
       "         1.9405e-01,  3.6740e-01,  1.4390e+00,  2.7298e-01,  1.6737e-01,\n",
       "         6.4284e-01,  3.1971e-01,  6.2011e-01,  4.9271e-01,  7.9206e-01,\n",
       "        -2.8902e-01,  9.0478e-01,  4.2953e-01,  1.9159e-01,  1.0053e+00,\n",
       "         3.0843e-01,  7.6117e-01,  1.0562e+00,  3.5630e-02,  2.2200e-01,\n",
       "         6.2591e-02,  7.9311e-01,  1.6768e-01,  3.7475e-01,  5.5946e-01,\n",
       "        -1.9613e-02,  1.8875e-01,  2.8645e-01,  9.3394e-01,  6.0329e-01,\n",
       "         2.3532e-01,  4.4401e-01,  6.6331e-01,  7.6228e-02,  1.3273e+00])"
      ]
     },
     "execution_count": 16,
     "metadata": {},
     "output_type": "execute_result"
    }
   ],
   "source": [
    "torch.cat(outputs).view(-1)"
   ]
  },
  {
   "cell_type": "code",
   "execution_count": 17,
   "id": "5c92f795",
   "metadata": {},
   "outputs": [
    {
     "data": {
      "text/plain": [
       "tensor([1, 0, 1, 1, 1, 1, 1, 0, 0, 0, 1, 1, 0, 0, 0, 0, 1, 1, 1, 0, 1, 1, 0, 0,\n",
       "        0, 1, 1, 1, 0, 0, 0, 0, 0, 0, 1, 0, 0, 1, 1, 1, 0, 0, 1, 1, 0, 0, 1, 0,\n",
       "        1, 1, 0, 1, 1, 0, 1, 1, 0, 0, 1, 1, 1, 0, 1, 1, 1, 1, 1, 0, 0, 0, 1, 1,\n",
       "        1, 1, 0, 1, 1, 0, 1, 1, 1, 0, 0, 1, 0, 1, 1, 0, 1, 0, 1, 1, 1, 1, 0, 0,\n",
       "        1, 1, 0, 0, 1, 1, 1, 0, 0, 1, 0, 1, 1, 1, 0, 0, 1, 0, 0, 1, 1, 0, 1, 1,\n",
       "        0, 1, 1, 0, 0, 1, 1, 1, 1, 1, 1, 0, 1, 1, 1, 0, 1, 1, 1, 0, 0, 1, 0, 0,\n",
       "        0, 1, 1, 0, 1, 0, 0, 1, 1, 0, 0, 0, 0, 0, 1, 0, 1, 0, 0, 1, 0, 0, 0, 1,\n",
       "        0, 0, 0, 0, 1, 1, 0, 0, 0, 0, 1, 0, 1, 1, 1, 0, 1, 0, 0, 0, 1, 0, 0, 1,\n",
       "        1, 1, 0, 1, 0, 0, 1, 0, 1, 1, 0, 1, 1, 1, 0, 0, 0, 1, 0, 0, 0, 1, 0, 0,\n",
       "        0, 1, 0, 0, 1, 0, 1, 0, 1, 0, 1, 1, 0, 1, 0, 1, 1, 0, 0, 0, 1, 0, 0, 0,\n",
       "        0, 0, 0, 1, 1, 0, 0, 1, 0, 1])"
      ]
     },
     "execution_count": 17,
     "metadata": {},
     "output_type": "execute_result"
    }
   ],
   "source": [
    "torch.cat(labels).view(-1)"
   ]
  },
  {
   "cell_type": "code",
   "execution_count": 18,
   "id": "75b97484",
   "metadata": {},
   "outputs": [
    {
     "data": {
      "text/plain": [
       "0.9440604198668714"
      ]
     },
     "execution_count": 18,
     "metadata": {},
     "output_type": "execute_result"
    }
   ],
   "source": [
    "metrics.roc_auc_score(torch.cat(labels).view(-1), torch.cat(outputs).view(-1))"
   ]
  },
  {
   "cell_type": "code",
   "execution_count": null,
   "id": "2a46ca49",
   "metadata": {},
   "outputs": [],
   "source": []
  },
  {
   "cell_type": "code",
   "execution_count": null,
   "id": "31e815fa",
   "metadata": {},
   "outputs": [],
   "source": []
  },
  {
   "cell_type": "code",
   "execution_count": null,
   "id": "e86335fc",
   "metadata": {},
   "outputs": [],
   "source": []
  }
 ],
 "metadata": {
  "kernelspec": {
   "display_name": "Python (pytorch_env)",
   "language": "python",
   "name": "pytorch_env"
  },
  "language_info": {
   "codemirror_mode": {
    "name": "ipython",
    "version": 3
   },
   "file_extension": ".py",
   "mimetype": "text/x-python",
   "name": "python",
   "nbconvert_exporter": "python",
   "pygments_lexer": "ipython3",
   "version": "3.7.10"
  }
 },
 "nbformat": 4,
 "nbformat_minor": 5
}
